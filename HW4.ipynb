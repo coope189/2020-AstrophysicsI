{
 "cells": [
  {
   "cell_type": "markdown",
   "metadata": {},
   "source": [
    "4.1.a) In a fully degenerate gas, all the particles have energies lower than the fermi energy. For such a gas we found (E1. 4.19) the relation between the density $n_e$ and the Fermi momentum $p_F$:"
   ]
  },
  {
   "cell_type": "markdown",
   "metadata": {},
   "source": [
    "$n_e=\\frac{8\\pi}{3h^3}p_F^3$"
   ]
  },
  {
   "cell_type": "markdown",
   "metadata": {},
   "source": [
    "For a nonrelativistic electron gas, use the relation $p_F=\\sqrt{2m_eE_F}$ between the Fermi momentum, the electron mass $m_e$, and the Fermi energy $E_F$, to express $E_F$ in terms of $n_e$ and $m_e$."
   ]
  },
  {
   "cell_type": "markdown",
   "metadata": {},
   "source": [
    "$n_e=\\frac{8\\pi}{3h^3}p_F^3\\hspace{1cm}p_F=\\sqrt{2m_eE_F}$"
   ]
  },
  {
   "cell_type": "markdown",
   "metadata": {},
   "source": [
    "$n_e=\\frac{8\\pi}{3h^3}(2m_eE_F)^{3/2}$"
   ]
  },
  {
   "cell_type": "markdown",
   "metadata": {},
   "source": [
    "$\\frac{3h^3n_e}{8\\pi}=(2m_eE_F)^{3/2}$"
   ]
  },
  {
   "cell_type": "markdown",
   "metadata": {},
   "source": [
    "$\\left[\\frac{3h^3n_e}{8\\pi}\\right]^{2/3}=2m_eE_F$"
   ]
  },
  {
   "cell_type": "markdown",
   "metadata": {},
   "source": [
    "$E_F=\\frac{1}{2m_e}\\left[\\frac{3h^3n_e}{8\\pi}\\right]^{2/3}$"
   ]
  },
  {
   "cell_type": "markdown",
   "metadata": {},
   "source": [
    "4.1.b) Estimate a characteristic $n_e$ under typical conditions inside a white dwarf. Using the result of (a), and assuming a temperature $T=10^7K$, evaluate numerically teh ratio $E_{th}/E_F$, where $E_{th}$ is the characteristic thermal energy of an electron in a gas of temperature T, to see that the electrons inside a white dwarf are indeed degenerate."
   ]
  },
  {
   "cell_type": "markdown",
   "metadata": {},
   "source": [
    "$n_e=Z\\frac{\\rho}{Am_p}$"
   ]
  },
  {
   "cell_type": "markdown",
   "metadata": {},
   "source": [
    "$n_e=\\frac{Z}{A}\\frac{1}{m_p}\\frac{M}{V}$"
   ]
  },
  {
   "cell_type": "markdown",
   "metadata": {},
   "source": [
    "$n_e=\\frac{Z}{A}\\frac{1}{m_p}\\frac{M}{(4/3)\\pi r^3}$"
   ]
  },
  {
   "cell_type": "markdown",
   "metadata": {},
   "source": [
    "$n_e=\\frac{Z}{A}\\frac{1}{m_p}\\frac{M_{wd}}{(4/3)\\pi r_{wd}^3}$"
   ]
  },
  {
   "cell_type": "markdown",
   "metadata": {},
   "source": [
    "For $Z/A=1/2$ and $M_{wd}=0.6M_{\\odot}$ then $r_{wd}=8.5x10^8cm$"
   ]
  },
  {
   "cell_type": "markdown",
   "metadata": {},
   "source": [
    "$n_e=\\frac{1}{2}\\frac{1}{1.67x10^{-24}g}\\frac{(0.6)(1.99x10^{33}g)}{(4/3)\\pi(8.5x10^8cm)^3}$"
   ]
  },
  {
   "cell_type": "markdown",
   "metadata": {},
   "source": [
    "$n_e=1.39x10^{29}cm^{-3}$"
   ]
  },
  {
   "cell_type": "markdown",
   "metadata": {},
   "source": [
    "$E_{th}=(3/2)kT\\hspace{1cm}E_F=\\frac{1}{2m_e}\\left[\\frac{3h^3n_e}{8\\pi}\\right]^{2/3}$"
   ]
  },
  {
   "cell_type": "markdown",
   "metadata": {},
   "source": [
    "$\\frac{E_{th}}{E_F}=\\frac{(3/2)kT}{\\frac{1}{2m_e}\\left[\\frac{3h^3n_e}{8\\pi}\\right]^{2/3}}$"
   ]
  },
  {
   "cell_type": "markdown",
   "metadata": {},
   "source": [
    "$\\frac{E_{th}}{E_F}=\\frac{(3)(1.38x10^{-16})(10^7)(9.11x10^{-28})(8\\pi)^{2/3}}{[{(3)(6.63x10^{-27})^3(1.39x10^{29})}]^{2/3}}$"
   ]
  },
  {
   "cell_type": "markdown",
   "metadata": {},
   "source": [
    "$\\frac{E_{th}}{E_F}=0.013$"
   ]
  },
  {
   "cell_type": "markdown",
   "metadata": {},
   "source": [
    "$E_F>E_{th}$"
   ]
  },
  {
   "cell_type": "markdown",
   "metadata": {},
   "source": [
    "4.2.a) The luminosity function of a population of objects is its observed distribution of luminosities. White dwarfs have a luminosity function of approximately $dN/dL\\sim L^{-7/4}$, with a cutoff below a luminosity $L\\sim 3x10^{-5}L_{\\odot}$. Show that this follows from the properties of individual white dwarfs, as follows. To obtain the power-law dependence, assume that a constant rate of star formation leads to a constant rate of white-dwarf formation, $dN/dt$, from stars that complete their evolution. The white-dwarf luminosity depends primarily on temperature, as $L\\propto T^4$. Finally, from Eq. 4.57, the white-dwarf cooling rate can be roughly approximated as $dT/dt\\propto T^4$. Use the chain rule to combine these three relations and otain the functional form of $dN/dl$."
   ]
  },
  {
   "cell_type": "markdown",
   "metadata": {},
   "source": [
    "$\\frac{dN}{dL}=\\frac{dN}{dt}\\frac{dt}{dT}\\frac{dT}{dL}$"
   ]
  },
  {
   "cell_type": "markdown",
   "metadata": {},
   "source": [
    "$\\frac{dN}{dL}=(const)\\frac{1}{T^4}\\frac{d}{dL}(L^{1/4})$"
   ]
  },
  {
   "cell_type": "markdown",
   "metadata": {},
   "source": [
    "$\\frac{dN}{dL}\\propto\\frac{1}{T^4}\\frac{1}{4}L^{-3/4}\\hspace{1cm}L\\propto T^4\\hspace{1cm}T\\propto L^{1/4}$"
   ]
  },
  {
   "cell_type": "markdown",
   "metadata": {},
   "source": [
    "$\\frac{dN}{dL}\\propto \\frac{1}{(L^{1/4})^4}\\frac{1}{4}L^{-3/4}$"
   ]
  },
  {
   "cell_type": "markdown",
   "metadata": {},
   "source": [
    "$\\frac{dN}{dL}\\propto\\frac{L^{-3/4}}{L}$"
   ]
  },
  {
   "cell_type": "markdown",
   "metadata": {},
   "source": [
    "$\\frac{dN}{dL}\\propto L^{-7/4}$"
   ]
  },
  {
   "cell_type": "markdown",
   "metadata": {},
   "source": [
    "4.2.b) As noted in section 4.2.3.3, after Eq. 4.59, the Universe has a finite age, and therefore the oldest white dwarfs (which hae had the longest time to cool) are no cooler than $\\sim 4000K$. The most common white dwarfs have a mass of $\\sim 0.6M_{\\odot}$, for which the radius is $\\sim 8500km$. Use this input to obtain the low-luminosity cutoff in the white-dwarf luminosity function."
   ]
  },
  {
   "cell_type": "markdown",
   "metadata": {},
   "source": [
    "$L=4\\pi r_{wd}^2\\sigma T_E^4$"
   ]
  },
  {
   "cell_type": "markdown",
   "metadata": {},
   "source": [
    "$r_{wd}=8500km=8.5x10^8cm\\hspace{1cm}T_E=10^7K$"
   ]
  },
  {
   "cell_type": "markdown",
   "metadata": {},
   "source": [
    "$L=4\\pi(8.5x10^8cm)^2(5.67x10^{-5}ergcm^{-2}s^{-1}K^{-4})(10^7K)^4$"
   ]
  },
  {
   "cell_type": "markdown",
   "metadata": {},
   "source": []
  }
 ],
 "metadata": {
  "kernelspec": {
   "display_name": "Python 3",
   "language": "python",
   "name": "python3"
  },
  "language_info": {
   "codemirror_mode": {
    "name": "ipython",
    "version": 3
   },
   "file_extension": ".py",
   "mimetype": "text/x-python",
   "name": "python",
   "nbconvert_exporter": "python",
   "pygments_lexer": "ipython3",
   "version": "3.8.3"
  }
 },
 "nbformat": 4,
 "nbformat_minor": 4
}
