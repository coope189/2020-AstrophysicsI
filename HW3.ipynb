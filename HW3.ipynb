{
 "cells": [
  {
   "cell_type": "markdown",
   "metadata": {},
   "source": [
    "3.2.) The pressure inside a normal star is given by (Eq. 3.76)"
   ]
  },
  {
   "cell_type": "markdown",
   "metadata": {},
   "source": [
    "$P=P_g+P_{rad}=\\frac{\\rho kT}{\\overline{m}}+\\frac{1}{3}\\frac{a}{T^4}$"
   ]
  },
  {
   "cell_type": "markdown",
   "metadata": {},
   "source": [
    "Using parameters appropriate to the sun, show that throughout the sun, including the core, where the internal temperature is about 10^7 K, the kinetic pressure dominates."
   ]
  },
  {
   "cell_type": "markdown",
   "metadata": {},
   "source": [
    "$P_g=\\frac{\\rho k T}{\\overline{m}} \\hspace{1cm} P_{rad}=\\frac{1}{3}aT^4$"
   ]
  },
  {
   "cell_type": "markdown",
   "metadata": {},
   "source": [
    "$\\frac{\\overline{m}}{m_H}=\\frac{2}{1+3X+0.5Y}$"
   ]
  },
  {
   "cell_type": "markdown",
   "metadata": {},
   "source": [
    "$\\overline{m}=\\frac{2m_H}{1+3X+0.5Y}$"
   ]
  },
  {
   "cell_type": "markdown",
   "metadata": {},
   "source": [
    "$P_g=\\frac{\\rho kT(1+3X+0.5Y)}{2m_H} \\hspace{1cm} P_{rad}=\\frac{1}{3}aT^4$"
   ]
  },
  {
   "cell_type": "markdown",
   "metadata": {},
   "source": [
    "For a typical calculation I will use$\\hspace{1cm}\\rho = \\overline{\\rho}=1.4 g cm^{-3} \\hspace{1cm} X=0.71 \\hspace{1cm} Y= 0.27 \\hspace{1cm} T = T_{E\\bigodot}=5800 k$"
   ]
  },
  {
   "cell_type": "markdown",
   "metadata": {},
   "source": [
    "$P_g=\\frac{(1.4gcm^{-3})(1.381x10^{-16}erg K^{-1})(5800K)[1+3(0.71)+(0.5)0.27]}{2(1.674x10^{-24}g)}$"
   ]
  },
  {
   "cell_type": "markdown",
   "metadata": {},
   "source": [
    "$P_g=1.09x10^2 erg cm^{-3}=109 erg cm^{-3}$"
   ]
  },
  {
   "cell_type": "markdown",
   "metadata": {},
   "source": [
    "$P_rad=\\frac{1}{3}(7.60x10^{-15}ergcm^{-3}K^{-4})(5800K)^4$"
   ]
  },
  {
   "cell_type": "markdown",
   "metadata": {},
   "source": [
    "$P_g=109ergcm^{-3}>2.87ergcm^{-3}=P_rad$"
   ]
  },
  {
   "cell_type": "markdown",
   "metadata": {},
   "source": [
    "For the center of the sun I will use $\\rho=\\rho_c=150gcm^{-3}\\hspace{1cm}T=T_c=15x10^6K\\hspace{1cm}X=0.34 \\hspace{1cm}Y=0.64$ "
   ]
  },
  {
   "cell_type": "markdown",
   "metadata": {},
   "source": [
    "$P_g=\\frac{(150gcm^{-3})(1.381x10^{-16}erg K^{-1})(15x10^6K)[1+3(0.34)+(0.5)0.64]}{2(1.674x10^{-24}g)}$"
   ]
  },
  {
   "cell_type": "markdown",
   "metadata": {},
   "source": [
    "$P_g=2.17x10^{17}ergcm^{-3}$"
   ]
  },
  {
   "cell_type": "markdown",
   "metadata": {},
   "source": [
    "$P_{rad}=1.28x10^{14}ergcm^{-3}$"
   ]
  },
  {
   "cell_type": "markdown",
   "metadata": {},
   "source": [
    "$P_g=2.17x10^{17}ergcm^{-3}>1.28x10^{14}ergcm^{-3}=P_{rad}$"
   ]
  },
  {
   "cell_type": "markdown",
   "metadata": {},
   "source": [
    "3.4a) Consider a hypthetical star of radius R, with density $\\rho$ that is constant, i.e., independent of radius. The star is composed of a classical, nonrelativist, ideal gas of fully ionized hydrogen. Solve the equations of stellar structure for the pressure profile, P(r), with the boundary condition P(R)=0. Answer: $P(r)=\\frac{2\\pi}{3}G\\rho(R^2-r^2)$"
   ]
  },
  {
   "cell_type": "markdown",
   "metadata": {},
   "source": [
    "$\\frac{dP(r)}{dr}=\\frac{-GM(r)\\rho(r)}{r^2}\\hspace{1cm}\\frac{dM(r)}{dr}=4\\pi r^2 \\rho (r)$"
   ]
  },
  {
   "cell_type": "markdown",
   "metadata": {},
   "source": [
    "$\\rho(r)=\\rho$"
   ]
  },
  {
   "cell_type": "markdown",
   "metadata": {},
   "source": [
    "$M(r)=\\frac{4}{3}\\pi r^3 \\rho$"
   ]
  },
  {
   "cell_type": "markdown",
   "metadata": {},
   "source": [
    "$\\frac{dP(r)}{dr}=\\frac{-GM(r)\\rho}{r^2}\\hspace{1cm}\\frac{dM(r)}{dr}=4\\pi r^2 \\rho$"
   ]
  },
  {
   "cell_type": "markdown",
   "metadata": {},
   "source": [
    "$dP(r)=-G\\rho M(r)\\frac{1}{r^2}dr\\hspace{1cm}dM(r)=4\\pi\\rho r^2dr$"
   ]
  },
  {
   "cell_type": "markdown",
   "metadata": {},
   "source": [
    "$\\int_{r}^{R}dP(r)=-G\\rho\\int_{r}^{R}M(r)\\frac{1}{r^2}dr\\hspace{1cm}\\int_{M(r)}^{M(R)}dM(r)=4\\pi\\rho\\int_{r}^{R}r^2dr$"
   ]
  },
  {
   "cell_type": "markdown",
   "metadata": {},
   "source": [
    "$P(R)=0$"
   ]
  },
  {
   "cell_type": "markdown",
   "metadata": {},
   "source": [
    "$P(r)=G\\rho\\int_{r}^{R}M(r)\\frac{1}{r^2}dr\\hspace{1cm}M(R)-M(r)=4\\pi\\rho(\\frac{1}{r}-\\frac{1}{R})$"
   ]
  },
  {
   "cell_type": "markdown",
   "metadata": {},
   "source": [
    "$P(r)=G\\rho\\left[\\left[ M(r)(-\\frac{1}{r})\\right]_{r}^{R}-\\int_{r}^{R}(-\\frac{1}{r})4\\pi\\rho r^2dr\\right]$"
   ]
  },
  {
   "cell_type": "markdown",
   "metadata": {},
   "source": [
    "$P(r)=G\\rho\\left[\\frac{M(r)}{r}-\\frac{M(R)}{R}+2\\pi\\rho(R^2-r^2)\\right]$"
   ]
  },
  {
   "cell_type": "markdown",
   "metadata": {},
   "source": [
    "$P(r)=G\\rho\\left[\\frac{(4/3)\\pi r^3\\rho}{r}-\\frac{(4/3)\\pi R^3\\rho}{R}+2\\pi\\rho(R^2-r^2)\\right]$"
   ]
  },
  {
   "cell_type": "markdown",
   "metadata": {},
   "source": [
    "$P(r)=\\frac{2\\pi}{3}G\\rho^2(R^2-r^2)$"
   ]
  },
  {
   "cell_type": "markdown",
   "metadata": {},
   "source": [
    "3.4.b) Find the temperature profile, T(r). "
   ]
  },
  {
   "cell_type": "markdown",
   "metadata": {},
   "source": [
    "$\\frac{dT}{dr}=\\frac{\\gamma-1}{\\gamma}\\frac{T(r)}{P(r)}\\frac{dP}{dr}\\hspace{1cm}P(r)=\\frac{2\\pi}{3}G\\rho^2(R^2-r^2)$"
   ]
  },
  {
   "cell_type": "markdown",
   "metadata": {},
   "source": [
    "$\\frac{dP}{dr}=\\frac{2\\pi}{3}G\\rho^2(-2r)$"
   ]
  },
  {
   "cell_type": "markdown",
   "metadata": {},
   "source": [
    "$\\frac{1}{T(r)}dT=\\frac{\\gamma-1}{\\gamma}\\frac{1}{P(r)}\\frac{2\\pi}{3}G\\rho^2(-2r)$"
   ]
  },
  {
   "cell_type": "markdown",
   "metadata": {},
   "source": [
    "$\\int_{0}^{r}\\frac{1}{T(r)}dT(r)=\\frac{\\gamma-1}{\\gamma}\\frac{-2r}{R^2-r^2}$"
   ]
  },
  {
   "cell_type": "markdown",
   "metadata": {},
   "source": [
    "$ln\\frac{T(r)}{T(0)}=\\frac{\\gamma-1}{\\gamma}\\frac{-2r}{R^2-r^2}$"
   ]
  },
  {
   "cell_type": "markdown",
   "metadata": {},
   "source": [
    "$T(r)=T_ce^{\\frac{\\gamma-1}{\\gamma}\\frac{-2r}{R^2-r^2}}$"
   ]
  },
  {
   "cell_type": "markdown",
   "metadata": {},
   "source": [
    "For completely ionized hydrogen, $\\gamma=5/3$"
   ]
  },
  {
   "cell_type": "markdown",
   "metadata": {},
   "source": [
    "$T(r)=T_ce^{-\\frac{4}{5}\\frac{r}{R^2-r^2}}$"
   ]
  },
  {
   "cell_type": "markdown",
   "metadata": {},
   "source": [
    "3.4.c) Assume that the nuclear energy production rate depends on temperature as $\\epsilon\\sim T^4$. (This is the approximate dependence of the rate for the p=p chain at the temperature in the core of the Sun.) At what radius does $\\epsilon$ decrease to 0.1 of its central value, and what fraction of the star's volume is included within this radius?"
   ]
  },
  {
   "cell_type": "markdown",
   "metadata": {},
   "source": [
    "$\\frac{dL(r)}{dr}=4\\pi r^2\\rho(r)\\epsilon(r)\\hspace{1cm}\\frac{dT(r)}{dr}=-\\frac{3L(r)K(r)\\rho(r)}{4\\pi r^2 4acT(r)^3}$"
   ]
  },
  {
   "cell_type": "markdown",
   "metadata": {},
   "source": [
    "$\\rho(r)=\\rho\\hspace{1cm}K(r)=K$"
   ]
  },
  {
   "cell_type": "markdown",
   "metadata": {},
   "source": [
    "$\\frac{dL(r)}{dr}=4\\pi r^2\\rho\\epsilon(r)\\hspace{1cm}\\frac{dT(r)}{dr}=-\\frac{3L(r)K\\rho}{4\\pi r^2 4acT(r)^3}$"
   ]
  },
  {
   "cell_type": "markdown",
   "metadata": {},
   "source": [
    "3.6.a)Consider a star of mass $M=10M_{\\odot}$, composed entirely of fully ionized $^{12}C$. Its core temperature is $T_c=6x10^8K$ (compared to $T_{c,\\odot}=1.5x10^7K$ for the Sun). What is the mean particle mass $\\bar{m}$, in units of $m_H$? Answer: 12/7"
   ]
  },
  {
   "cell_type": "markdown",
   "metadata": {},
   "source": [
    "$\\bar{m}=\\frac{n_1m_1+n_2m_2+n_3m_3}{n_1+n_2+n_3}$"
   ]
  },
  {
   "cell_type": "markdown",
   "metadata": {},
   "source": [
    "$\\bar{m}=\\frac{n_e m_e+n_A m_A}{n_e+n_A}$"
   ]
  },
  {
   "cell_type": "markdown",
   "metadata": {},
   "source": [
    "$\\bar{m}=\\frac{n_e(0)+(n_e/6)12m_H}{n_e+(n_e/6)}$"
   ]
  },
  {
   "cell_type": "markdown",
   "metadata": {},
   "source": [
    "$\\bar{m}=\\frac{2m_Hn_e}{(1+1/6)n_e}$"
   ]
  },
  {
   "cell_type": "markdown",
   "metadata": {},
   "source": [
    "$\\bar{m}=\\frac{2}{1+1/6}m_H$"
   ]
  },
  {
   "cell_type": "markdown",
   "metadata": {},
   "source": [
    "$\\bar{m}=\\frac{12}{7}m_H$"
   ]
  },
  {
   "cell_type": "markdown",
   "metadata": {},
   "source": [
    "3.6.b) use the classical ideal gas law, the dimensional relation between mass, density, and radius, and the virial theorem to find the scaling of the stellar radius $r_*$, with total mass M, mean particle mass $\\bar{m}$, and core temperature $T_c$. Using the values of these parameters for the Sun, derive the radius of the star. Answer: $0.70r_\\odot$."
   ]
  },
  {
   "cell_type": "markdown",
   "metadata": {},
   "source": [
    "$PV=NkT\\hspace{1cm}\\rho=\\frac{M}{V}\\hspace{1cm}\\bar{P}=-\\frac{1}{3}\\frac{E_{gr}}{V}\\hspace{1cm}E_{gr}=-\\frac{3}{5}\\frac{GM_*^2}{r_*}$"
   ]
  },
  {
   "cell_type": "markdown",
   "metadata": {},
   "source": [
    "3.6.c) If the luminosity of the star is $L=10^7L_\\odot$, what is the effective surface temperature?"
   ]
  },
  {
   "cell_type": "markdown",
   "metadata": {},
   "source": [
    "For high mass stars"
   ]
  },
  {
   "cell_type": "markdown",
   "metadata": {},
   "source": [
    "$L\\sim T_{eff}^8$"
   ]
  },
  {
   "cell_type": "markdown",
   "metadata": {},
   "source": [
    "$T_{eff}=L^{1/8}$"
   ]
  },
  {
   "cell_type": "markdown",
   "metadata": {},
   "source": [
    "$T_{eff}\\sim(10^7L_\\odot)^{1/8}$"
   ]
  },
  {
   "cell_type": "markdown",
   "metadata": {},
   "source": [
    "$L_\\odot=2x10^{33}ergs^{-1}$"
   ]
  },
  {
   "cell_type": "markdown",
   "metadata": {},
   "source": [
    "$T_{eff}\\sim[10^7(2x10^{33}ergs^{-1})]^{1/8}$"
   ]
  },
  {
   "cell_type": "markdown",
   "metadata": {},
   "source": [
    "$T_{eff}\\sim 1.09x10^5K$"
   ]
  },
  {
   "cell_type": "markdown",
   "metadata": {},
   "source": [
    "3.6.d) Suppose the star produces energy via the reaction $^{12}C+^{12}C\\to^{24}Mg$. The atomic weight of $^{12}C$ is 12, and that of $^{24}Mg$ is 23.985. (The atomic weight of a nucleus is defined as the ratio of its mass to 1/12 the mass of a $^{12}C$ nucleus.) What fraction of the star's mass can be converted into thermal energy?"
   ]
  },
  {
   "cell_type": "markdown",
   "metadata": {},
   "source": [
    "$\\frac{24-23.985}{24}=6.25x10^{-4}$"
   ]
  },
  {
   "cell_type": "markdown",
   "metadata": {},
   "source": [
    "3.6.e) How much time does it take for the star to use up 10% of its carbon? Answer: 950 yr"
   ]
  },
  {
   "cell_type": "markdown",
   "metadata": {},
   "source": [
    "$\\tau\\sim\\frac{1}{2}\\frac{GM_\\odot^{2}}{r_\\odot}\\frac{1}{L_\\odot}\\hspace{1cm}M=10M_\\odot\\hspace{1cm}L=10^7L_\\odot\\hspace{1cm}=0.70r_\\odot$"
   ]
  },
  {
   "cell_type": "markdown",
   "metadata": {},
   "source": [
    "$\\tau_{kh}\\sim\\frac{1}{2}\\frac{G[10M\\odot]^2}{[0.70r_\\odot][10^7L_\\odot]}$"
   ]
  },
  {
   "cell_type": "markdown",
   "metadata": {},
   "source": [
    "$\\tau_{kh}\\sim\\frac{1}{2}\\frac{(6.67x10^{-8}cm^{3}g^{-1}s^{-2})[10(2.0x10^{33}g)]^2}{[(0.070)(7.0x10^{10}cm)][(10^7)(3.8x10^{33}ergs^{-1})]}$"
   ]
  },
  {
   "cell_type": "markdown",
   "metadata": {},
   "source": [
    "$\\tau_{kh}\\sim 950yr$"
   ]
  },
  {
   "cell_type": "code",
   "execution_count": null,
   "metadata": {},
   "outputs": [],
   "source": []
  }
 ],
 "metadata": {
  "kernelspec": {
   "display_name": "Python 3",
   "language": "python",
   "name": "python3"
  },
  "language_info": {
   "codemirror_mode": {
    "name": "ipython",
    "version": 3
   },
   "file_extension": ".py",
   "mimetype": "text/x-python",
   "name": "python",
   "nbconvert_exporter": "python",
   "pygments_lexer": "ipython3",
   "version": "3.8.3"
  }
 },
 "nbformat": 4,
 "nbformat_minor": 4
}
