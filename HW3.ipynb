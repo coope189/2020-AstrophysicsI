{
 "cells": [
  {
   "cell_type": "markdown",
   "metadata": {},
   "source": [
    "3.2.) The pressure inside a normal star is given by (Eq. 3.76)"
   ]
  },
  {
   "cell_type": "markdown",
   "metadata": {},
   "source": [
    "$P=P_g+P_{rad}=\\frac{\\rho kT}{\\overline{m}}+\\frac{1}{3}\\frac{a}{T^4}$"
   ]
  },
  {
   "cell_type": "markdown",
   "metadata": {},
   "source": [
    "Using parameters appropriate to the sun, show that throughout the sun, including the core, where the internal temperature is about 10^7 K, the kinetic pressure dominates."
   ]
  },
  {
   "cell_type": "markdown",
   "metadata": {},
   "source": [
    "$P_g=\\frac{\\rho k T}{\\overline{m}} \\hspace{1cm} P_{rad}=\\frac{1}{3}aT^4$"
   ]
  },
  {
   "cell_type": "markdown",
   "metadata": {},
   "source": [
    "$\\frac{\\overline{m}}{m_H}=\\frac{2}{1+3X+0.5Y}$"
   ]
  },
  {
   "cell_type": "markdown",
   "metadata": {},
   "source": [
    "$\\overline{m}=\\frac{2m_H}{1+3X+0.5Y}$"
   ]
  },
  {
   "cell_type": "markdown",
   "metadata": {},
   "source": [
    "$P_g=\\frac{\\rho kT(1+3X+0.5Y)}{2m_H} \\hspace{1cm} P_{rad}=\\frac{1}{3}aT^4$"
   ]
  },
  {
   "cell_type": "markdown",
   "metadata": {},
   "source": [
    "For a typical calculation I will use$\\hspace{1cm}\\rho = \\overline{\\rho}=1.4 g cm^{-3} \\hspace{1cm} X=0.71 \\hspace{1cm} Y= 0.27 \\hspace{1cm} T = T_{E\\bigodot}=5800 k$"
   ]
  },
  {
   "cell_type": "markdown",
   "metadata": {},
   "source": [
    "$P_g=\\frac{(1.4gcm^{-3})(1.381x10^{-16}erg K^{-1})(5800K)[1+3(0.71)+(0.5)0.27]}{2(1.674x10^{-24}g)}$"
   ]
  },
  {
   "cell_type": "markdown",
   "metadata": {},
   "source": [
    "$P_g=1.09x10^2 erg cm^{-3}=109 erg cm^{-3}$"
   ]
  },
  {
   "cell_type": "markdown",
   "metadata": {},
   "source": [
    "$P_rad=\\frac{1}{3}(7.60x10^{-15}ergcm^{-3}K^{-4})(5800K)^4$"
   ]
  },
  {
   "cell_type": "markdown",
   "metadata": {},
   "source": [
    "$P_g=109ergcm^{-3}>2.87ergcm^{-3}=P_rad$"
   ]
  },
  {
   "cell_type": "markdown",
   "metadata": {},
   "source": [
    "For the center of the sun I will use $\\rho=\\rho_c=150gcm^{-3}\\hspace{1cm}T=T_c=15x10^6K\\hspace{1cm}X=0.34 \\hspace{1cm}Y=0.64$ "
   ]
  },
  {
   "cell_type": "markdown",
   "metadata": {},
   "source": [
    "$P_g=\\frac{(150gcm^{-3})(1.381x10^{-16}erg K^{-1})(15x10^6K)[1+3(0.34)+(0.5)0.64]}{2(1.674x10^{-24}g)}$"
   ]
  },
  {
   "cell_type": "markdown",
   "metadata": {},
   "source": [
    "$P_g=2.17x10^{17}ergcm^{-3}$"
   ]
  },
  {
   "cell_type": "markdown",
   "metadata": {},
   "source": [
    "$P_{rad}=1.28x10^{14}ergcm^{-3}$"
   ]
  },
  {
   "cell_type": "markdown",
   "metadata": {},
   "source": [
    "$P_g=2.17x10^{17}ergcm^{-3}>1.28x10^{14}ergcm^{-3}=P_{rad}$"
   ]
  },
  {
   "cell_type": "code",
   "execution_count": null,
   "metadata": {},
   "outputs": [],
   "source": []
  }
 ],
 "metadata": {
  "kernelspec": {
   "display_name": "Python 3",
   "language": "python",
   "name": "python3"
  },
  "language_info": {
   "codemirror_mode": {
    "name": "ipython",
    "version": 3
   },
   "file_extension": ".py",
   "mimetype": "text/x-python",
   "name": "python",
   "nbconvert_exporter": "python",
   "pygments_lexer": "ipython3",
   "version": "3.8.3"
  }
 },
 "nbformat": 4,
 "nbformat_minor": 4
}
