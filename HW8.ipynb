{
 "cells": [
  {
   "cell_type": "code",
   "execution_count": 2,
   "metadata": {},
   "outputs": [],
   "source": [
    "# read in library and constants\n",
    "import numpy as np, os, sys\n",
    "import matplotlib.pylab as p\n",
    "\n",
    "sigmacont=5.67051e-5\n",
    "acont=7.5657e-15\n",
    "ev=1.602e-12\n",
    "hcont=6.62607004e-27\n",
    "ccont=2.99792458e10\n",
    "kcont=1.38064852e-16\n",
    "rcont=8.314472e7\n",
    "me=9.1093837015e-28\n",
    "Gcont=6.67259e-8\n",
    "Msun=1.989e33\n",
    "Mearth=5.972e27\n",
    "Mjupiter=1.898e30\n",
    "Lsun=3.827e33\n",
    "rsun=6.9599e10\n",
    "rjupiter=7.149e9\n",
    "rearth=6.371e8\n",
    "au=1.49598e13\n",
    "pc=3.085678e18\n",
    "mh=1.67352e-24\n",
    "yr=365.2425*24.*3600\n",
    "pi=3.1415926"
   ]
  },
  {
   "cell_type": "markdown",
   "metadata": {},
   "source": [
    "6.2.a) A star is transited by a planet. From the measured period $\\tau$ and the transit duration $t_{dur}$ alone, show that one can obtain an upper bound on the density of the transited $star$: $\\rho_{*,max}=3\\tau/(G\\pi^2t_{dur}^3)$.\n",
    "$Hint:$ Combine kepler's law and Eq. 6.7 to eliminate the separation $a$, and then extract the density of the spherical star. The upper bound is obtained by assuming an impact parameter $b = 0$."
   ]
  },
  {
   "cell_type": "markdown",
   "metadata": {},
   "source": [
    "$M_*\\sim\\frac{\\omega^2a^3}{G}$"
   ]
  },
  {
   "cell_type": "markdown",
   "metadata": {},
   "source": [
    "$a^3\\sim\\frac{M_*G}{\\omega^2}$"
   ]
  },
  {
   "cell_type": "markdown",
   "metadata": {},
   "source": [
    "$a=\\left(\\frac{M_*G}{\\omega^2}\\right)^{1/3}$"
   ]
  },
  {
   "cell_type": "markdown",
   "metadata": {},
   "source": [
    "$t_{dur}=\\frac{r_*\\tau}{\\pi a}\\sqrt{1-b^2}$"
   ]
  },
  {
   "cell_type": "markdown",
   "metadata": {},
   "source": [
    "$t_{dur}=\\frac{r_*\\tau}{\\pi}\\sqrt{1-b^2}\\left(\\frac{\\omega^2}{M_*G}\\right)^{1/3}$"
   ]
  },
  {
   "cell_type": "markdown",
   "metadata": {},
   "source": [
    "$t_{dur}^3=\\frac{r_*^3\\tau^3}{\\pi^3}\\sqrt{1-b^2}\\frac{\\omega^2}{M_*G}\\hspace{1cm}\\omega=\\frac{2\\pi}{\\tau}$"
   ]
  },
  {
   "cell_type": "markdown",
   "metadata": {},
   "source": [
    "$t_{dur}^3=\\frac{r_*^3\\tau^3}{\\pi^3}\\sqrt{1-b^2}\\frac{(2\\pi/\\tau)^2}{M_*G}$"
   ]
  },
  {
   "cell_type": "markdown",
   "metadata": {},
   "source": [
    "$t_{dur}^3=\\frac{4r_*^3\\tau\\sqrt{1-b^2}}{\\pi M_*G}\\hspace{1cm}\\rho_*=\\frac{M_*}{(4/3)\\pi r_*^3}\\hspace{1cm}M_*=\\rho_*(4/3)\\pi r_*^3$"
   ]
  },
  {
   "cell_type": "markdown",
   "metadata": {},
   "source": [
    "$t_{dur}^3=\\frac{4r_*^3\\tau\\sqrt{1-b^2}}{\\pi (\\rho_*(4/3)\\pi r_*^3)G}$"
   ]
  },
  {
   "cell_type": "markdown",
   "metadata": {},
   "source": [
    "$\\rho_*=\\frac{3\\tau\\sqrt{1-b^2}}{G\\pi^2\\tau_{dur}^3}$"
   ]
  },
  {
   "cell_type": "markdown",
   "metadata": {},
   "source": [
    "$b=0$ for $\\rho_{*,max}$"
   ]
  },
  {
   "cell_type": "markdown",
   "metadata": {},
   "source": [
    "$\\rho_{*,max}=\\frac{3\\tau}{G\\pi^2t_{dur}^3}$"
   ]
  },
  {
   "cell_type": "markdown",
   "metadata": {},
   "source": [
    "7.4) We calculated (Eq. 7.21, and below it) the probability that a star in the LMC is gravitationally lensed by MACHOs composing the Galaxy's dark halo. Repeat this calculation, but for star-star lensing in the direction of the Galaxy center, i.e., estimate, to an order of magnitude, the probability that a star in the bulge of our Galaxy will be gravitationaly lensed by another star in the galactic disk, close to our line of sight to the bulge star. Assume that we are at a distance $r = 8 kpc$ to the bulge, a typical stellar mass is $0.5M_{\\odot}$, the stellar mass in the disk interior to the solar radius is $5x10^{10}M_{\\odot}$, and the thickness of the disk is $2h = 1 kpc$.\n",
    "$Hint:$ To simplify the calculation, find the mean number density of star in the disk, and use this as your \"target\" density. For the lensing cross section, use the area of a circle formed by the Einstein radius of a $0.5M_{\\odot}$ star at  half the distance to the bulge. The distance covered bythe line of sight is our distance to the bulge. The product of the three numbers gives the number of disk stars that are passed to with an Einstein radius by a random line of sight to the bulge. If this number is $<<1$, it gives the probability of such an encounter.\n",
    "$Answer: 2.4x10^{-6}$."
   ]
  },
  {
   "cell_type": "markdown",
   "metadata": {},
   "source": [
    "$N\\sim n\\sigma l$"
   ]
  },
  {
   "cell_type": "markdown",
   "metadata": {},
   "source": [
    "$n=\\frac{M_{disk}}{\\pi r^2 2h}$"
   ]
  },
  {
   "cell_type": "markdown",
   "metadata": {},
   "source": [
    "$\\sigma=\\pi R_E^2\\hspace{1cm}R_E=D_{ol}\\theta_E\\hspace{1cm}\\theta_E=\\left(\\frac{4GM}{c^2}\\frac{D_{ls}}{D_{ol}D_{os}}\\right)^{1/2}\\hspace{1cm}M=(1/2)M_{\\odot}\\hspace{1cm}D_{ol}=r/2\\hspace{1cm}D_{ls}=r/2\\hspace{1cm}D_{os}=r$"
   ]
  },
  {
   "cell_type": "markdown",
   "metadata": {},
   "source": [
    "$N=\\frac{M_{disk}}{\\pi r^2 2h}\\pi\\left[\\frac{r}{2}\\left(\\frac{4G(1/2)M_{\\odot}(r/2)}{c^2 (r/2)r}\\right)^{1/2}\\right]^2 r$"
   ]
  },
  {
   "cell_type": "code",
   "execution_count": 11,
   "metadata": {},
   "outputs": [
    {
     "data": {
      "text/plain": [
       "2.3796440805889658e+27"
      ]
     },
     "execution_count": 11,
     "metadata": {},
     "output_type": "execute_result"
    }
   ],
   "source": [
    "Mdisk=5e10*Msun\n",
    "r=8*1000*pc\n",
    "N=(Mdisk/(pi*r**2*1000*pc))*pi*((r/2)*((4*Gcont*0.5*Msun*(r/2))/(ccont**2*(r/2)*r))**(1/2))**(2)*r\n",
    "N"
   ]
  },
  {
   "cell_type": "code",
   "execution_count": null,
   "metadata": {},
   "outputs": [],
   "source": []
  }
 ],
 "metadata": {
  "kernelspec": {
   "display_name": "Python 3",
   "language": "python",
   "name": "python3"
  },
  "language_info": {
   "codemirror_mode": {
    "name": "ipython",
    "version": 3
   },
   "file_extension": ".py",
   "mimetype": "text/x-python",
   "name": "python",
   "nbconvert_exporter": "python",
   "pygments_lexer": "ipython3",
   "version": "3.8.3"
  }
 },
 "nbformat": 4,
 "nbformat_minor": 4
}
