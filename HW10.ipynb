{
 "cells": [
  {
   "cell_type": "code",
   "execution_count": 1,
   "metadata": {},
   "outputs": [],
   "source": [
    "# read in library and constants\n",
    "import numpy as np, os, sys\n",
    "import matplotlib.pylab as p\n",
    "\n",
    "sigmacont=5.67051e-5\n",
    "acont=7.5657e-15\n",
    "ev=1.602e-12\n",
    "hcont=6.62607004e-27\n",
    "ccont=2.99792458e10\n",
    "kcont=1.38064852e-16\n",
    "rcont=8.314472e7\n",
    "me=9.1093837015e-28\n",
    "Gcont=6.67259e-8\n",
    "Msun=1.989e33\n",
    "Mearth=5.972e27\n",
    "Mjupiter=1.898e30\n",
    "Lsun=3.827e33\n",
    "rsun=6.9599e10\n",
    "rjupiter=7.149e9\n",
    "rearth=6.371e8\n",
    "au=1.49598e13\n",
    "pc=3.085678e18\n",
    "mh=1.67352e-24\n",
    "yr=365.2425*24.*3600\n",
    "pi=3.1415926"
   ]
  },
  {
   "cell_type": "markdown",
   "metadata": {},
   "source": [
    "9.3.a) For the same cosmology as in Problem 2 ($k=0$, $\\Omega_{\\Lambda}=1$), find the comoving radius $r_{eh}$ of the galaxies that will be on our event horizon at a time $t$ in the future, i.e., galaxies with which we will be unable to communicate. In other words, light signals sent by us at time $t$ will never reach us, and therefore we will never see those galaxies as they appeared at time $t$ and thereafter. Shot that, in this case, $r_{eh}$ shrinks exponentially, and we thus lose the possiblity of communication with more and more of our neighbors."
   ]
  },
  {
   "cell_type": "markdown",
   "metadata": {},
   "source": [
    "$$0=c^2dt^2-R(t)^2\\frac{dr^2}{1-kr^2}$$"
   ]
  },
  {
   "cell_type": "markdown",
   "metadata": {},
   "source": [
    "$$c^2dt^2=R(t)^2dr^2$$"
   ]
  },
  {
   "cell_type": "markdown",
   "metadata": {},
   "source": [
    "$$cdt=R(t)dr\\hspace{1cm}R(t)=R_0e^{H_0t}$$"
   ]
  },
  {
   "cell_type": "markdown",
   "metadata": {},
   "source": [
    "$$cdt=R_0e^{H_0t}dr$$"
   ]
  },
  {
   "cell_type": "markdown",
   "metadata": {},
   "source": [
    "$$ce^{-H_0t}dt=R_0dr$$"
   ]
  },
  {
   "cell_type": "markdown",
   "metadata": {},
   "source": [
    "$$c\\int_t^\\infty e^{-H_0t}dt=R_0\\int_0^{r_{eh}}dr$$"
   ]
  },
  {
   "cell_type": "markdown",
   "metadata": {},
   "source": [
    "$$c\\left(-\\frac{1}{H_0}\\right)e^{-H_0}|_t^{\\infty}=R_0r|_0^{r_{eh}}$$"
   ]
  },
  {
   "cell_type": "markdown",
   "metadata": {},
   "source": [
    "$$-\\frac{c}{R_0H_0}[0-e^{-H_0t}]=r_{eh}-0$$"
   ]
  },
  {
   "cell_type": "markdown",
   "metadata": {},
   "source": [
    "$$r_{eh}=\\frac{c}{R_0H_0}e^{-H_0t}$$"
   ]
  },
  {
   "cell_type": "markdown",
   "metadata": {},
   "source": [
    "$$\\lim_{t\\to\\infty} r_{eh}=\\lim_{t\\to\\infty}\\frac{c}{R_0H_0}e^{-H_0t}=\\frac{C}{R_0H_0}e^{-\\infty}=0$$"
   ]
  },
  {
   "cell_type": "markdown",
   "metadata": {},
   "source": [
    "9.3.b) Assume that $H_0=70kms^{-1}Mpc^{-1}$ and find, for such a universe (which approximates the actual world we live in), within how many years will the galaxies in the nearby Virgo cluster (distance $\\sim 15 Mpc$) reach the event horizon.\n",
    "\n",
    "$Hint:$ Proceed as in Problem 2, but integrate from $r=0$ to $r_{eh}$ to the comoving radius of Virgo, 15 Mpc/R_0.\n",
    "\n",
    "$Answer: 79 Gyr$"
   ]
  },
  {
   "cell_type": "markdown",
   "metadata": {},
   "source": [
    "$$r_{eh}=\\frac{c}{R_0H_0}e^{-H_0t}$$"
   ]
  },
  {
   "cell_type": "markdown",
   "metadata": {},
   "source": [
    "$$\\frac{r_{eh}R_0H_0}{c}=e^{-H_0t}$$"
   ]
  },
  {
   "cell_type": "markdown",
   "metadata": {},
   "source": [
    "$$ln\\left[\\frac{r_{eh}R_0H_0}{c}\\right]=-H_0t$$"
   ]
  },
  {
   "cell_type": "markdown",
   "metadata": {},
   "source": [
    "$$t=-\\frac{1}{H_0}ln\\left[\\frac{r_{eh}R_0H_0}{c}\\right]$$"
   ]
  },
  {
   "cell_type": "markdown",
   "metadata": {},
   "source": [
    "$$H_0=\\frac{70km}{sMpc}\\frac{10^5cm}{1km}\\frac{1Mpc}{10^6pc}\\frac{1pc}{3.1x10^{18}cm}=2.26x10^{-18}s^{-1}$$"
   ]
  },
  {
   "cell_type": "markdown",
   "metadata": {},
   "source": [
    "$$t=-\\frac{1}{2.26x10^{-18}s^{-1}}ln\\frac{\\frac{15Mpc}{R_0}R_0\\frac{70km}{sMpc}}{\\frac{3x10^5km}{s}}$$"
   ]
  },
  {
   "cell_type": "markdown",
   "metadata": {},
   "source": [
    "$$t=2.50x10^{18}s$$"
   ]
  },
  {
   "cell_type": "markdown",
   "metadata": {},
   "source": [
    "$$t=2.50x10^{18}s\\frac{1hr}{3600s}\\frac{1day}{24hr}\\frac{1yr}{365day}=7.93x10^{10}yr=79.3Gyr$$"
   ]
  },
  {
   "cell_type": "code",
   "execution_count": null,
   "metadata": {},
   "outputs": [],
   "source": []
  }
 ],
 "metadata": {
  "kernelspec": {
   "display_name": "Python 3",
   "language": "python",
   "name": "python3"
  },
  "language_info": {
   "codemirror_mode": {
    "name": "ipython",
    "version": 3
   },
   "file_extension": ".py",
   "mimetype": "text/x-python",
   "name": "python",
   "nbconvert_exporter": "python",
   "pygments_lexer": "ipython3",
   "version": "3.8.3"
  }
 },
 "nbformat": 4,
 "nbformat_minor": 4
}
