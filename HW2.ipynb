{
 "cells": [
  {
   "cell_type": "markdown",
   "metadata": {},
   "source": [
    "2.4.a) The maximal radial velocities measured for the two components of a spectroscopic binary are 100 and 200 km/s, with an orbital period of 2 days. The orbits are circular. Find the mass ratio of the two stars."
   ]
  },
  {
   "cell_type": "markdown",
   "metadata": {},
   "source": [
    "$$T=2days$$"
   ]
  },
  {
   "cell_type": "markdown",
   "metadata": {},
   "source": [
    "$$\\frac{\\mid V _{1,obs} \\mid}{\\mid V _{2,obs} \\mid}=\\frac{M_2}{M_1} $$"
   ]
  },
  {
   "cell_type": "markdown",
   "metadata": {},
   "source": [
    "$$\\frac{M_2}{M_1} = \\frac{\\mid V_{1,obs} \\mid}{\\mid V_{2,obs} \n",
    "\\mid}=\\frac{100 km/s}{200 km/s}$$"
   ]
  },
  {
   "cell_type": "markdown",
   "metadata": {},
   "source": [
    "$$\\frac{M_2}{M_1}=\\frac{1}{2}$$"
   ]
  },
  {
   "cell_type": "markdown",
   "metadata": {},
   "source": [
    "2.4.b) Use Kepler's law (Eq. 2.4.2) to calculate the value of Msin^3i for each star, where M is the mass and i is the inclination to the observer's line of sightof the perpendicular to the orbital plane."
   ]
  },
  {
   "cell_type": "markdown",
   "metadata": {},
   "source": [
    "$$equation 2.42 (M_1+M_2)sin^3 i = \\frac{\\tau(\\mid V_{1,obs}+\\mid V_(2,obs))^3}{2\\pi G}$$"
   ]
  },
  {
   "cell_type": "markdown",
   "metadata": {},
   "source": [
    "$$(M_1+M_2)sin^3 i = \\frac{2daysx86400sday^{-1}(\\mid 100 km s^{-1} + 200 km s^{-1}\\mid)^3}{2\\pi 6.674x10^{-11}m^3 kg^{-1} s^{-2}}$$"
   ]
  },
  {
   "cell_type": "markdown",
   "metadata": {},
   "source": [
    "$$M_1 sin^3 i+M_2 sin^3 i=1.1126x10^31 kg$$"
   ]
  },
  {
   "cell_type": "markdown",
   "metadata": {},
   "source": [
    "$$M_2=(1/2)M_1$$"
   ]
  },
  {
   "cell_type": "markdown",
   "metadata": {},
   "source": [
    "$$M_1 sin^3 i+(1/2)M_1 sin^3 i=1.1126x10^31 kg$$"
   ]
  },
  {
   "cell_type": "markdown",
   "metadata": {},
   "source": [
    "$$(3/2)M_1 sin^3 i=1.1126x10^31 kg$$"
   ]
  },
  {
   "cell_type": "markdown",
   "metadata": {},
   "source": [
    "$$M_1 sin^3 i=(2/3)1.1126x10^31 kg$$"
   ]
  },
  {
   "cell_type": "markdown",
   "metadata": {},
   "source": [
    "$$M_1 sin^3 i=7.417x10^31 kg$$"
   ]
  },
  {
   "cell_type": "markdown",
   "metadata": {},
   "source": [
    "$$M_1 sin^3 i=7.417x10^31 kg \\frac{1 M \\odot}{1.989x10^{31} kg}$$"
   ]
  },
  {
   "cell_type": "markdown",
   "metadata": {},
   "source": [
    "$$M_1 sin^3 i=3.7M\\odot$$"
   ]
  },
  {
   "cell_type": "markdown",
   "metadata": {},
   "source": [
    "$$\\frac{M_1}{M_2}=2$$"
   ]
  },
  {
   "cell_type": "markdown",
   "metadata": {},
   "source": [
    "$$M_2=(1/2)M_1$$"
   ]
  },
  {
   "cell_type": "markdown",
   "metadata": {},
   "source": [
    "$$M_2sin^3i=(1/2)M_1sin^3i$$"
   ]
  },
  {
   "cell_type": "markdown",
   "metadata": {},
   "source": [
    "$$M_2sin^3i=(1/2)(3.7M\\odot)$$"
   ]
  },
  {
   "cell_type": "markdown",
   "metadata": {},
   "source": [
    "$$M_2sin^3i=1.8M\\odot$$"
   ]
  },
  {
   "cell_type": "markdown",
   "metadata": {},
   "source": [
    "2.4.c) Calculate the mean expectation value of the factor sin3i, i.e., the mean value it would have among an ensemble of binaries with random inclinations. Find the masses of the two stars, if sin3i has its mean value. "
   ]
  },
  {
   "cell_type": "markdown",
   "metadata": {},
   "source": [
    "$$<sin^3i>=\\int_{0}^{4\\pi}sin^3id\\Omega$$"
   ]
  },
  {
   "cell_type": "markdown",
   "metadata": {},
   "source": [
    "$$d\\Omega=sin\\theta d\\theta d\\phi$$"
   ]
  },
  {
   "cell_type": "markdown",
   "metadata": {},
   "source": [
    "$$<sin^3i>=\\int_0^{2\\pi}\\int_0^{\\pi}sin^3isin\\theta d\\theta d\\phi$$"
   ]
  },
  {
   "cell_type": "markdown",
   "metadata": {},
   "source": [
    "$$<sin^3i>=\\int_0^{\\pi/2}sin^3isini di$$"
   ]
  },
  {
   "cell_type": "markdown",
   "metadata": {},
   "source": [
    "$$<sin^3i>=\\int_0^{\\pi/2}sin^4idi$$"
   ]
  },
  {
   "cell_type": "markdown",
   "metadata": {},
   "source": [
    "$$<sin^3i>=-\\frac{1}{4}cos(4i)\\Big|_0^{\\pi/2} \\$$"
   ]
  },
  {
   "cell_type": "markdown",
   "metadata": {},
   "source": [
    "$$cosax \\sim 1 -\\frac{a^2x^2}{2}+\\frac{a^4x^4}{24}$$"
   ]
  },
  {
   "cell_type": "markdown",
   "metadata": {},
   "source": [
    "$$<sin^3i>=[\\frac{3i}{8}-\\frac{sin(2i)}{4}+\\frac{sin(4i)}{32}]\\Big|_0^{\\pi/2}$$"
   ]
  },
  {
   "cell_type": "markdown",
   "metadata": {},
   "source": [
    "$$<sin^3i>=0.59$$"
   ]
  },
  {
   "cell_type": "code",
   "execution_count": null,
   "metadata": {},
   "outputs": [],
   "source": []
  }
 ],
 "metadata": {
  "kernelspec": {
   "display_name": "Python 3",
   "language": "python",
   "name": "python3"
  },
  "language_info": {
   "codemirror_mode": {
    "name": "ipython",
    "version": 3
   },
   "file_extension": ".py",
   "mimetype": "text/x-python",
   "name": "python",
   "nbconvert_exporter": "python",
   "pygments_lexer": "ipython3",
   "version": "3.8.3"
  }
 },
 "nbformat": 4,
 "nbformat_minor": 4
}
