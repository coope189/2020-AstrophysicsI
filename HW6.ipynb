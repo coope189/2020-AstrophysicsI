{
 "cells": [
  {
   "cell_type": "code",
   "execution_count": 1,
   "metadata": {},
   "outputs": [],
   "source": [
    "# read in library and constants\n",
    "import numpy as np, os, sys\n",
    "import matplotlib.pylab as p\n",
    "\n",
    "sigmacont=5.67051e-5\n",
    "acont=7.5657e-15\n",
    "ev=1.602e-12\n",
    "hcont=6.62607004e-27\n",
    "ccont=2.99792458e10\n",
    "kcont=1.38064852e-16\n",
    "rcont=8.314472e7\n",
    "me=9.1093837015e-28\n",
    "Gcont=6.67259e-8\n",
    "Msun=1.989e33\n",
    "Mearth=5.972e27\n",
    "Mjupiter=1.898e30\n",
    "Lsun=3.827e33\n",
    "rsun=6.9599e10\n",
    "rjupiter=7.149e9\n",
    "rearth=6.371e8\n",
    "au=1.49598e13\n",
    "pc=3.085678e18\n",
    "mh=1.67352e-24\n",
    "yr=365.2425*24.*3600\n",
    "pi=3.1415926"
   ]
  },
  {
   "cell_type": "markdown",
   "metadata": {},
   "source": [
    "4.10) A compact accreting object of mass M is radiating at the Eddington Luminosity (Eq.4.142) corresponding to that mass,"
   ]
  },
  {
   "cell_type": "markdown",
   "metadata": {},
   "source": [
    "$L_E=\\frac{4\\pi cGMm_p}{\\sigma_T}=1.3x10^{38}ergs^{-1}\\frac{M}{M_{\\odot}}$."
   ]
  },
  {
   "cell_type": "markdown",
   "metadata": {},
   "source": [
    "An astronaut wearing a white space suit is placed at rest at an arbitrary distance from the compact object. Assuming that the cross-sectional area of the astronaut's body is $A=1.5 m^2$, find the maximum allowed mass $m$ of the astronaut, in kg, if the radiation pressure is to support her from falling onto the compact object."
   ]
  },
  {
   "cell_type": "markdown",
   "metadata": {},
   "source": [
    "Hint: By definition, a proton at any distance from this object will float, its gravitational attraction to the object balanced by the radiation pressure on nearby electrons. Consider the astronaut as a particle with mass m and cross section equal to her geometrical cross section, 2A (the factor of 2 is because her suit is white, so every photon reflection transfers twice the photon momentum). Compare $m$ to $m_p$ and 2A to $\\sigma_T$.\n",
    "Answer: 77 kg."
   ]
  },
  {
   "cell_type": "markdown",
   "metadata": {},
   "source": [
    "$L_E=\\frac{4\\pi cGMm_p}{\\sigma_T}=\\frac{4\\pi cGMm}{2A}$"
   ]
  },
  {
   "cell_type": "markdown",
   "metadata": {},
   "source": [
    "$\\frac{m_p}{\\sigma_T}=\\frac{m}{2A}$"
   ]
  },
  {
   "cell_type": "markdown",
   "metadata": {},
   "source": [
    "$m=\\frac{2Am_p}{\\sigma_T}$"
   ]
  },
  {
   "cell_type": "code",
   "execution_count": 6,
   "metadata": {},
   "outputs": [
    {
     "name": "stdout",
     "output_type": "stream",
     "text": [
      "The maximum allowed mass of the astronaut is  74.93373134328358  kg.\n"
     ]
    }
   ],
   "source": [
    "A=1.5e4\n",
    "sigmat=6.7e-25\n",
    "m=2*A*mh/(sigmat)\n",
    "print(\"The maximum allowed mass of the astronaut is \",(m/1000),\" kg.\")"
   ]
  },
  {
   "cell_type": "code",
   "execution_count": null,
   "metadata": {},
   "outputs": [],
   "source": []
  }
 ],
 "metadata": {
  "kernelspec": {
   "display_name": "Python 3",
   "language": "python",
   "name": "python3"
  },
  "language_info": {
   "codemirror_mode": {
    "name": "ipython",
    "version": 3
   },
   "file_extension": ".py",
   "mimetype": "text/x-python",
   "name": "python",
   "nbconvert_exporter": "python",
   "pygments_lexer": "ipython3",
   "version": "3.8.3"
  }
 },
 "nbformat": 4,
 "nbformat_minor": 4
}
