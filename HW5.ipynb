{
 "cells": [
  {
   "cell_type": "code",
   "execution_count": 1,
   "metadata": {},
   "outputs": [],
   "source": [
    "# read in library and constants\n",
    "import numpy as np, os, sys\n",
    "import matplotlib.pylab as p\n",
    "\n",
    "sigmacont=5.67051e-5\n",
    "acont=7.5657e-15\n",
    "ev=1.602e-12\n",
    "hcont=6.62607004e-27\n",
    "ccont=2.99792458e10\n",
    "kcont=1.38064852e-16\n",
    "rcont=8.314472e7\n",
    "me=9.1093837015e-28\n",
    "Gcont=6.67259e-8\n",
    "Msun=1.989e33\n",
    "Mearth=5.972e27\n",
    "Mjupiter=1.898e30\n",
    "Lsun=3.827e33\n",
    "rsun=6.9599e10\n",
    "rjupiter=7.149e9\n",
    "rearth=6.371e8\n",
    "au=1.49598e13\n",
    "pc=3.085678e18\n",
    "mh=1.67352e-24\n",
    "yr=365.2425*24.*3600\n",
    "pi=3.1415926"
   ]
  },
  {
   "cell_type": "markdown",
   "metadata": {},
   "source": [
    "4.4) A type-Ia supernova is the thermonuclear explosion of a white dwarf, possibly after the white dwarf has accreted matter and apprached or reached the Chandrasekhar limit."
   ]
  },
  {
   "cell_type": "markdown",
   "metadata": {},
   "source": [
    "4.4.a) Use the virial theorem to otain an expression for the mean pressure inside a white dwarf of mass M and radius R."
   ]
  },
  {
   "cell_type": "markdown",
   "metadata": {},
   "source": [
    "$\\bar{P}V=-\\frac{1}{3}E_{gr}\\hspace{1cm}E_{gr}=-\\frac{GM^2}{R}$"
   ]
  },
  {
   "cell_type": "markdown",
   "metadata": {},
   "source": [
    "$\\bar{P}\\frac{4}{3}\\pi R^3=-\\frac{1}{3}\\left(-\\frac{GM^2}{R}\\right)$"
   ]
  },
  {
   "cell_type": "markdown",
   "metadata": {},
   "source": [
    "$\\bar{P}=\\frac{GM^2}{4\\pi R^4}$"
   ]
  },
  {
   "cell_type": "markdown",
   "metadata": {},
   "source": [
    "4.4.b) Use the result of (a) to estimate, to an order of magitude, the speed of sound, $v_s=\\sqrt{dP/d\\rho}\\sim\\sqrt{P/\\rho}$, insid a white dwarf. In an accreting white dwarf with a carbon core that has reached nuclear ignition temperature, a nuclear burning \"flame\" encompasses the star at the sound velocity or faster. Within how much time, in seconds, does the flame traverse the radius of the white dwarf, assuming $R=10^4km$, $M=1.4M_{\\odot}$? Note that this sound-crossing timescale is $\\sim(G\\rho)^{-1/2}$, which is also the free-fall timescale (Eq. 3.15)."
   ]
  },
  {
   "cell_type": "markdown",
   "metadata": {},
   "source": [
    "$v_s\\sim\\sqrt{\\frac{P}{\\rho}}\\hspace{1cm}\\bar{P}=\\frac{GM^2}{4\\pi R^4}\\hspace{1cm}\\rho=\\frac{M}{V}\\hspace{1cm}V=\\frac{4}{3}\\pi R^3$"
   ]
  },
  {
   "cell_type": "markdown",
   "metadata": {},
   "source": [
    "$v_s\\sim\\sqrt{\\frac{GM^2}{4\\pi R^4}\\frac{\\frac{4}{3}\\pi R^3}{M}}$"
   ]
  },
  {
   "cell_type": "markdown",
   "metadata": {},
   "source": [
    "$v_s\\sim\\sqrt{\\frac{GM}{3R}}$"
   ]
  },
  {
   "cell_type": "code",
   "execution_count": 17,
   "metadata": {},
   "outputs": [
    {
     "name": "stdout",
     "output_type": "stream",
     "text": [
      "vs ~ 2.488674e+08 cm\n"
     ]
    }
   ],
   "source": [
    "R=1e9\n",
    "M=1.4*Msun\n",
    "vs=(Gcont*M/(3*R))**(1/2)\n",
    "print(\"vs ~\",\"{:e}\".format(vs),\"cm\")\n"
   ]
  },
  {
   "cell_type": "markdown",
   "metadata": {},
   "source": [
    "$vs\\sim10^8cm$"
   ]
  },
  {
   "cell_type": "markdown",
   "metadata": {},
   "source": [
    "$v=\\frac{d}{t}$"
   ]
  },
  {
   "cell_type": "markdown",
   "metadata": {},
   "source": [
    "$t=\\frac{d}{v}$"
   ]
  },
  {
   "cell_type": "markdown",
   "metadata": {},
   "source": [
    "$t=\\frac{R}{v_s}$"
   ]
  },
  {
   "cell_type": "code",
   "execution_count": 21,
   "metadata": {},
   "outputs": [
    {
     "name": "stdout",
     "output_type": "stream",
     "text": [
      "The flame will traverse the radius of the white dwarf in  4.018204149669417  seconds\n"
     ]
    }
   ],
   "source": [
    "t=R/vs\n",
    "print(\"The flame will traverse the radius of the white dwarf in \",t,\" seconds\")"
   ]
  },
  {
   "cell_type": "markdown",
   "metadata": {},
   "source": [
    "The sound-crossing timescale is\n",
    "$\\sim(G\\rho)^{-1/2}$"
   ]
  },
  {
   "cell_type": "markdown",
   "metadata": {},
   "source": [
    "$\\sim\\left(G\\frac{M}{V}\\right)^{-1/2}$"
   ]
  },
  {
   "cell_type": "markdown",
   "metadata": {},
   "source": [
    "$\\sim\\left(\\frac{3GM}{4\\pi R^3}\\right)^{-1/2}$"
   ]
  },
  {
   "cell_type": "code",
   "execution_count": 25,
   "metadata": {},
   "outputs": [
    {
     "name": "stdout",
     "output_type": "stream",
     "text": [
      "the sound-crossing timescale is about  4.748054238707518  seconds\n"
     ]
    }
   ],
   "source": [
    "tsc=(3*Gcont*M/(4*pi*R**3))**(-1/2)\n",
    "print(\"the sound-crossing timescale is about \",tsc,\" seconds\")"
   ]
  },
  {
   "cell_type": "markdown",
   "metadata": {},
   "source": [
    "4.4.c) Calculate the total energy output, in ergs, of the explosion, assuming that the entire mass of the white dwarf is synthesized from carbon to nickel, with a mass-to-energy conversion efficiency of 0.1%. Compare this energy to the gravtitational binding energy of the white dwarf, to demonstrate that the white dwarf is disrupted completely, without leaving any remnant."
   ]
  },
  {
   "cell_type": "markdown",
   "metadata": {},
   "source": [
    "$E=0.001Mc^2$"
   ]
  },
  {
   "cell_type": "markdown",
   "metadata": {},
   "source": [
    "$E=(0.001)1.4M_\\odot c^2$"
   ]
  },
  {
   "cell_type": "code",
   "execution_count": 29,
   "metadata": {},
   "outputs": [
    {
     "name": "stdout",
     "output_type": "stream",
     "text": [
      "The total energy output of the explosion is  2.5026736707105427e+51  ergs\n"
     ]
    }
   ],
   "source": [
    "E=0.001*1.4*Msun*ccont**2\n",
    "print(\"The total energy output of the explosion is \",E,\" ergs\")"
   ]
  },
  {
   "cell_type": "markdown",
   "metadata": {},
   "source": [
    "The gravitational binding energy is:\n",
    "$U=\\frac{3GM}{5R^2}$"
   ]
  },
  {
   "cell_type": "code",
   "execution_count": 34,
   "metadata": {},
   "outputs": [
    {
     "name": "stdout",
     "output_type": "stream",
     "text": [
      "The gravitional binding energy is  156076150.5576 ergs\n",
      "The explosion energy =  2.5026736707105427e+51  ergs >>  156076150.5576  ergs = the gravitional binding energy\n"
     ]
    }
   ],
   "source": [
    "U=3*Gcont*1.4*M/(5*R**2)\n",
    "print(\"The gravitional binding energy is \",U,\"ergs\")\n",
    "print(\"The explosion energy = \",E,\" ergs >> \",U,\" ergs = the gravitional binding energy\")"
   ]
  },
  {
   "cell_type": "markdown",
   "metadata": {},
   "source": [
    "4.4.d) Gamma rays from the radioactive decays $^{56}Ni\\rightarrow^{56}Co+\\gamma\\rightarrow^{56}Fe+\\gamma$ drive all of the optical luminosity of a type-Ia supernova. The atomic weights of $^{56}Ni$ and $^{56}Fe$ are 55.942135 and 55.934941, respectively. Calculate the total energy radiated in the optical range during the event. Given that the characteristic times for the two radioactive decay processes are 8.8 days and 11 days, respectively, show that the typical luminosity is $\\sim10^{10}L_\\odot$"
   ]
  },
  {
   "cell_type": "markdown",
   "metadata": {},
   "source": [
    "Since all of the mass of the white dwarf is synthesized into nickel, the number of nickel atoms is:"
   ]
  },
  {
   "cell_type": "markdown",
   "metadata": {},
   "source": [
    "$N=\\frac{MN_A}{m_{Ni}}$"
   ]
  },
  {
   "cell_type": "markdown",
   "metadata": {},
   "source": [
    "Where $m_{Ni}$ is the mass of a nickel-56 atom and $m_{Fe}$ is the mass of an iron-56 atom and $N_A$ is Avogardo's constant. The energy released from one decay of one nickel-56 to one iron-56 is:"
   ]
  },
  {
   "cell_type": "markdown",
   "metadata": {},
   "source": [
    "$m_{Ni}c^2-m_{Fe}c^2$"
   ]
  },
  {
   "cell_type": "markdown",
   "metadata": {},
   "source": [
    "Then total energy is:"
   ]
  },
  {
   "cell_type": "markdown",
   "metadata": {},
   "source": [
    "$E_{optical}=\\frac{MN_Ac^2(m_{Ni}-m_{Fe})}{m_{Ni}}$"
   ]
  },
  {
   "cell_type": "markdown",
   "metadata": {},
   "source": [
    "also use $c^2$=1.49241806x$10^{-3}$ erg/u"
   ]
  },
  {
   "cell_type": "code",
   "execution_count": 43,
   "metadata": {},
   "outputs": [
    {
     "name": "stdout",
     "output_type": "stream",
     "text": [
      "The total energy radiated in the optical range is  3.2183669428887335e+50 ergs\n"
     ]
    }
   ],
   "source": [
    "na=6.02214e23\n",
    "mni=55.942135\n",
    "mfe=55.934941\n",
    "cc=0.00149241806\n",
    "Eopt=M*na*cc*(mni-mfe)/mni\n",
    "print(\"The total energy radiated in the optical range is \",Eopt,\"ergs\")"
   ]
  },
  {
   "cell_type": "markdown",
   "metadata": {},
   "source": [
    "Then the luminosity is this energy divided by 8.8 days (7.603x$10^5$ s) or 111 days (9.59x$10^6$ s)."
   ]
  },
  {
   "cell_type": "code",
   "execution_count": 57,
   "metadata": {},
   "outputs": [
    {
     "name": "stdout",
     "output_type": "stream",
     "text": [
      "The luminosity ranges from  3.353863008429276e+43  erg/s to  4.2330224160051736e+44  erg/s .\n",
      "So the luminosity ranges from  8.763687e+09  solar luminosity to  1.106094e+11  solar luminosity\n"
     ]
    }
   ],
   "source": [
    "Lmax=Eopt/(7.603e5)\n",
    "Lmin=Eopt/(9.596e6)\n",
    "print(\"The luminosity ranges from \",Lmin,\" erg/s to \",Lmax,\" erg/s .\")\n",
    "print(\"So the luminosity ranges from \",\"{:e}\".format(Lmin/Lsun),\" solar luminosity to \",\"{:e}\".format(Lmax/Lsun),\" solar luminosity\")"
   ]
  },
  {
   "cell_type": "markdown",
   "metadata": {},
   "source": [
    "4.4.e) It takes a type-Ia supernova about 17 days from explosion to reaching its maximum brightness. Show that this timescale corresponds to the time that it takes for light to diffuse, in a random walk, through an expanding shell of gas. The shell has a mass opacity of $\\kappa\\sim0.3cm^2g^{-1}$. Thus, the \"light-curve rise time\" is just the time it takes for the radioactive decay luminosity from the entire shell to become visible. After this point, the supernova fades with time, still powered by the exponentially declining luminosity of the radioactive decay of the expanding mass, but now fully visible.\n",
    "Hint: The photon diffusion time to the surface at radius R is $R^2/(lc)$, where the mean free path is $l=(k\\rho)^{-1}$. Express $\\rho$ by means of M and R, replace R with vt, and isolate t.\n"
   ]
  },
  {
   "cell_type": "markdown",
   "metadata": {},
   "source": [
    "$t=\\frac{R^2}{lc}\\hspace{1cm}l=\\frac{1}{\\kappa\\rho}$"
   ]
  },
  {
   "cell_type": "markdown",
   "metadata": {},
   "source": [
    "$t=\\frac{R^2\\kappa\\rho}{c}\\hspace{1cm}\\rho=\\frac{M}{(4/3)\\pi R^2}$"
   ]
  },
  {
   "cell_type": "markdown",
   "metadata": {},
   "source": [
    "$t=\\frac{3\\kappa M}{4\\pi cR}\\hspace{1cm}R=vt$"
   ]
  },
  {
   "cell_type": "markdown",
   "metadata": {},
   "source": [
    "$t=\\frac{3\\kappa M}{4\\pi cvt}$"
   ]
  },
  {
   "cell_type": "markdown",
   "metadata": {},
   "source": [
    "$t^2=\\frac{3\\kappa M}{4\\pi cv}$"
   ]
  },
  {
   "cell_type": "markdown",
   "metadata": {},
   "source": [
    "$t=\\sqrt{\\frac{3\\kappa M}{4\\pi cv}}$"
   ]
  },
  {
   "cell_type": "code",
   "execution_count": 62,
   "metadata": {},
   "outputs": [
    {
     "name": "stdout",
     "output_type": "stream",
     "text": [
      "The diffusion time is  2579214.0407633297  seconds which is  29.852014360686688  days.\n"
     ]
    }
   ],
   "source": [
    "k=0.3\n",
    "v=1e9\n",
    "t=(3*k*M/(4*pi*ccont*v))**(1/2)\n",
    "print(\"The diffusion time is \",t,\" seconds which is \",t/(3600*24),\" days.\")"
   ]
  },
  {
   "cell_type": "code",
   "execution_count": null,
   "metadata": {},
   "outputs": [],
   "source": []
  }
 ],
 "metadata": {
  "kernelspec": {
   "display_name": "Python 3",
   "language": "python",
   "name": "python3"
  },
  "language_info": {
   "codemirror_mode": {
    "name": "ipython",
    "version": 3
   },
   "file_extension": ".py",
   "mimetype": "text/x-python",
   "name": "python",
   "nbconvert_exporter": "python",
   "pygments_lexer": "ipython3",
   "version": "3.8.3"
  }
 },
 "nbformat": 4,
 "nbformat_minor": 4
}
