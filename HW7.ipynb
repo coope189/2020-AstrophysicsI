{
 "cells": [
  {
   "cell_type": "code",
   "execution_count": 1,
   "metadata": {},
   "outputs": [],
   "source": [
    "# read in library and constants\n",
    "import numpy as np, os, sys\n",
    "import matplotlib.pylab as p\n",
    "\n",
    "sigmacont=5.67051e-5\n",
    "acont=7.5657e-15\n",
    "ev=1.602e-12\n",
    "hcont=6.62607004e-27\n",
    "ccont=2.99792458e10\n",
    "kcont=1.38064852e-16\n",
    "rcont=8.314472e7\n",
    "me=9.1093837015e-28\n",
    "Gcont=6.67259e-8\n",
    "Msun=1.989e33\n",
    "Mearth=5.972e27\n",
    "Mjupiter=1.898e30\n",
    "Lsun=3.827e33\n",
    "rsun=6.9599e10\n",
    "rjupiter=7.149e9\n",
    "rearth=6.371e8\n",
    "au=1.49598e13\n",
    "pc=3.085678e18\n",
    "mh=1.67352e-24\n",
    "yr=365.2425*24.*3600\n",
    "pi=3.1415926"
   ]
  },
  {
   "cell_type": "markdown",
   "metadata": {},
   "source": [
    "5.5) For strong shocks in general, and specifically for adiabatic index $\\gamma=5/3$, find the ratios between the following energies and the kinetic energy per unit mass of the inflowing upstream gas in the shock frame, $E_{k,0}=v_0^2/2$:"
   ]
  },
  {
   "cell_type": "markdown",
   "metadata": {},
   "source": [
    "5.5.a) the thermal energy per unit mass, $\\epsilon$, of the shocked gas;"
   ]
  },
  {
   "cell_type": "markdown",
   "metadata": {},
   "source": [
    "$E_{k,0}=\\frac{v_0^2}{2}\\hspace{1cm}\\epsilon=\\frac{1}{\\gamma-1}\\frac{kT}{\\bar{m}}\\hspace{1cm}T_1=\\frac{2(\\gamma-1)\\bar{m}}{(\\gamma+1)^2k}v_0^2$"
   ]
  },
  {
   "cell_type": "markdown",
   "metadata": {},
   "source": [
    "$\\frac{\\epsilon_1}{E_{k,0}}=\\frac{\\frac{1}{\\gamma-1}\\frac{k}{\\bar{m}}\\frac{2(\\gamma-1)\\bar{m}}{(\\gamma+1)^2k}v_0^2}{\\frac{v_0^2}{2}}$"
   ]
  },
  {
   "cell_type": "markdown",
   "metadata": {},
   "source": [
    "$\\frac{\\epsilon_1}{E_{k,0}}=\\frac{\\frac{2}{(\\gamma+1)^2}v_0^2}{\\frac{v_0^2}{2}}$"
   ]
  },
  {
   "cell_type": "markdown",
   "metadata": {},
   "source": [
    "$\\frac{\\epsilon_1}{E_{k,0}}=\\frac{4}{(\\gamma+1)^2}$"
   ]
  },
  {
   "cell_type": "markdown",
   "metadata": {},
   "source": [
    "$\\frac{\\epsilon_1}{E_{k,0}}=\\frac{4}{(\\frac{5}{3}+1)^2}$"
   ]
  },
  {
   "cell_type": "markdown",
   "metadata": {},
   "source": [
    "$\\frac{\\epsilon_1}{E_{k,0}}=\\frac{9}{16}$"
   ]
  },
  {
   "cell_type": "markdown",
   "metadata": {},
   "source": [
    "5.5.b) the kinetic energy per unit mass of the shocked gas, in the shock frame;"
   ]
  },
  {
   "cell_type": "markdown",
   "metadata": {},
   "source": [
    "$\\frac{kinetic energy of the shocked gas}{kinetic energy of the unshocked gas}=\\frac{1/2v_1^2}{1/2v_0^2}=\\frac{v_1^2}{v_0^2}\\hspace{1cm}\\frac{\\rho_1}{\\rho_0}=\\frac{v_0}{v_1}\\hspace{1cm}\\frac{\\rho_1}{\\rho_0}=\\frac{\\gamma+1}{\\gamma-1}$"
   ]
  },
  {
   "cell_type": "markdown",
   "metadata": {},
   "source": [
    "$\\frac{1/ 2v_1^2}{1/2 v_0^2}=\\left[\\frac{\\rho_0}{\\rho_1}\\right]^2=\\left[\\frac{(\\gamma-1)}{(\\gamma+1)}\\right]^2$"
   ]
  },
  {
   "cell_type": "markdown",
   "metadata": {},
   "source": [
    "$\\frac{1/2v_1^2}{1/2v_0^2}=\\frac{(\\gamma-1)^2}{(\\gamma+1)^2}$"
   ]
  },
  {
   "cell_type": "markdown",
   "metadata": {},
   "source": [
    "$\\gamma=5/3$"
   ]
  },
  {
   "cell_type": "markdown",
   "metadata": {},
   "source": [
    "$\\frac{1/2v_1^2}{1/2v_0^2}=\\frac{1}{16}$"
   ]
  },
  {
   "cell_type": "markdown",
   "metadata": {},
   "source": [
    "5.5.c) the kinetic energy per unit mass of the shocked gas, in the observer frame."
   ]
  },
  {
   "cell_type": "markdown",
   "metadata": {},
   "source": [
    "$v=v_0-v_1$"
   ]
  },
  {
   "cell_type": "markdown",
   "metadata": {},
   "source": [
    "$1/2v^2=1/2(v_0-v_1)^2$"
   ]
  },
  {
   "cell_type": "markdown",
   "metadata": {},
   "source": [
    "$\\frac{1/2(v_0-v_1)^2}{1/2v_0^2}=\\frac{v_0^2-2v_0 v_1-v_1^2}{v_0^2}$"
   ]
  },
  {
   "cell_type": "markdown",
   "metadata": {},
   "source": [
    "$=1-2\\frac{\\gamma-1}{\\gamma+1}-\\left(\\frac{\\gamma-1}{\\gamma+1}\\right)^2$"
   ]
  },
  {
   "cell_type": "markdown",
   "metadata": {},
   "source": [
    "$=\\frac{4}{(\\gamma+1)^2}$"
   ]
  },
  {
   "cell_type": "markdown",
   "metadata": {},
   "source": [
    "$\\gamma=5/3$"
   ]
  },
  {
   "cell_type": "markdown",
   "metadata": {},
   "source": [
    "$\\frac{4}{(\\gamma+1)^2}=\\frac{9}{16}$"
   ]
  },
  {
   "cell_type": "markdown",
   "metadata": {},
   "source": [
    "5.6) In the supernova remnant SNR1006 (see Fig. 5.12) observations spaced over several years show that the outer X-ray emitting rim, which traces the forward shock, is expanding at a velocity $v_0 = 6000 km s^{-1}$. When observed in synchrotron radiation at a photonenergy of $hv_{sync} = 4 keV$, teh width of the rim is d = 0.1 pc. One explanation for the thin rim is that its width corresponds to the distance traveled by the emitting electrons until they lose their energy to synchrotron radiation (i.e., over a synchrotron cooling time)."
   ]
  },
  {
   "cell_type": "markdown",
   "metadata": {},
   "source": [
    "5.6.a) Assuming the electrons are advected with the downstream gas, and hence recede from the strong forward shock at a constant velocity $v_1 = v0/4$. Find the magnetic field B behind the shock (assuming it is uniform), and the energies of the electrons that radiate at 4 keV."
   ]
  },
  {
   "cell_type": "markdown",
   "metadata": {},
   "source": [
    "$$\\nu_{sync}=(4.2MHz)\\gamma^2B\\hspace{1cm}t_{cool}=(10yr)\\frac{1}{\\gamma B^2}$$"
   ]
  },
  {
   "cell_type": "markdown",
   "metadata": {},
   "source": [
    "$$v=\\frac{v_0}{4}=\\frac{d}{t_{cool}}\\hspace{1cm}t_{cool}=\\frac{4d}{v_0}$$"
   ]
  },
  {
   "cell_type": "markdown",
   "metadata": {},
   "source": [
    "$$h\\nu_{sync}=h(4.2MHz)\\gamma^2B\\hspace{1cm}\\frac{4d}{v_0}=(10yr)\\frac{1}{\\gamma B^2}$$"
   ]
  },
  {
   "cell_type": "markdown",
   "metadata": {},
   "source": [
    "$$B=\\frac{(4keV)}{h(4.2MHz)}\\frac{1}{\\gamma^2}\\hspace{1cm}\\gamma=\\frac{(10yr)V_0}{4d}\\frac{1}{B^2}$$"
   ]
  },
  {
   "cell_type": "markdown",
   "metadata": {},
   "source": [
    "$$B=\\frac{(4keV)(\\frac{10^3eV}{1keV})(\\frac{1.602x10^{-12}erg}{1eV})}{(6.6x10^{-27}ergs)(4.2x10^6s^{-1})\\gamma^2}\\hspace{1cm}\\gamma=\\frac{(10yr)(\\frac{365day}{1yr})(\\frac{24hr}{1day})(\\frac{3600s}{1hr})(\\frac{6000km}{s})(\\frac{10^5cm}{1km})}{(4)(0.1pc)(\\frac{3.1x10^{18}cm}{1pc})B^2}$$"
   ]
  },
  {
   "cell_type": "markdown",
   "metadata": {},
   "source": [
    "$$B=2.312x10^{11}\\frac{1}{\\gamma^2}\\hspace{1cm}\\gamma=0.1526\\frac{1}{B^2}$$"
   ]
  },
  {
   "cell_type": "markdown",
   "metadata": {},
   "source": [
    "$$B=2.312x10^{11}\\frac{1}{\\gamma^2}\\hspace{1cm}B=\\sqrt{\\frac{0.1526}{\\gamma}}$$"
   ]
  },
  {
   "cell_type": "markdown",
   "metadata": {},
   "source": [
    "$$2.312x10^{11}\\frac{1}{\\gamma^2}=\\sqrt{\\frac{0.1526}{\\gamma}}$$"
   ]
  },
  {
   "cell_type": "markdown",
   "metadata": {},
   "source": [
    "$\\gamma=\\left[\\frac{(2.312x10^{11})^2}{0.1526}\\right]^{1/3}=7.05x10^7$ which is close to $10^8$"
   ]
  },
  {
   "cell_type": "markdown",
   "metadata": {},
   "source": [
    "$B=\\sqrt{\\frac{0.1526}{\\gamma}}=\\sqrt{\\frac{0.1526}{7.05x10^7}}=46.5\\mu G$ which is close to $70\\mu G$"
   ]
  },
  {
   "cell_type": "markdown",
   "metadata": {},
   "source": [
    "$$E=\\gamma mc^2$$"
   ]
  },
  {
   "cell_type": "markdown",
   "metadata": {},
   "source": [
    "$E=(7.05x10^7)(0.511MeV)=3.60x10^{13}eV$ which is close to $5x10^{13}eV$"
   ]
  },
  {
   "cell_type": "markdown",
   "metadata": {},
   "source": [
    "5.6.b) If this scenario is correct, what should be the rim width at synchrotron photon energies of 1 keV? If the rim width were instead found to be independent of energy, what could be an alternative explanation?"
   ]
  },
  {
   "cell_type": "markdown",
   "metadata": {},
   "source": [
    "$$h\\nu_{sync}=1keV=h(4.2MHz)\\gamma^2B\\hspace{1cm}B=70x10^{-6}G$$"
   ]
  },
  {
   "cell_type": "markdown",
   "metadata": {},
   "source": [
    "$$(1keV)=h(4.2MHz)\\gamma^2(70x10^{-6})$$"
   ]
  },
  {
   "cell_type": "markdown",
   "metadata": {},
   "source": [
    "$$\\gamma=\\left[\\frac{1keV}{h(4.2MHz)(70x10^{-6})}\\right]^{1/2}$$"
   ]
  },
  {
   "cell_type": "markdown",
   "metadata": {},
   "source": [
    "$$\\gamma=\\left[\\frac{(1keV)(\\frac{10^3eV}{1keV})(\\frac{1.602x10^{-12}}{1eV})}{(6.6x10^{-27}ergs)(4.2x10^{-6}s^{-1})(70x10^{-6})}\\right]^{1/2}$$"
   ]
  },
  {
   "cell_type": "markdown",
   "metadata": {},
   "source": [
    "$$\\gamma=2.87x10^7$$"
   ]
  },
  {
   "cell_type": "markdown",
   "metadata": {},
   "source": [
    "$$\\frac{4d}{v_0}=(10yr)\\frac{1}{\\gamma B^2}$$"
   ]
  },
  {
   "cell_type": "markdown",
   "metadata": {},
   "source": [
    "$$d=\\frac{v_0(10yr)}{4\\gamma B^2}$$"
   ]
  },
  {
   "cell_type": "markdown",
   "metadata": {},
   "source": [
    "$$d=\\frac{(\\frac{6000km}{s})(\\frac{10^5cm}{1km})(10yr)(\\frac{365day}{1yr})(\\frac{24hr}{1day})(\\frac{3600s}{1hr})}{(4)(2.87x10^7)(70x10^{-6})}$$"
   ]
  },
  {
   "cell_type": "markdown",
   "metadata": {},
   "source": [
    "$$d=2.35x10^{13}cm(\\frac{1pc}{3.1x10^{18}cm})$$"
   ]
  },
  {
   "cell_type": "markdown",
   "metadata": {},
   "source": [
    "$$d=7.58x10^{-6}pc$$"
   ]
  },
  {
   "cell_type": "markdown",
   "metadata": {},
   "source": [
    "If the rim width were found to be independent of energy, this could be because the rim width depends only on the magnetic field strength of the shock and not on the lorentz factor of the synchrotron electrons."
   ]
  },
  {
   "cell_type": "code",
   "execution_count": null,
   "metadata": {},
   "outputs": [],
   "source": []
  }
 ],
 "metadata": {
  "kernelspec": {
   "display_name": "Python 3",
   "language": "python",
   "name": "python3"
  },
  "language_info": {
   "codemirror_mode": {
    "name": "ipython",
    "version": 3
   },
   "file_extension": ".py",
   "mimetype": "text/x-python",
   "name": "python",
   "nbconvert_exporter": "python",
   "pygments_lexer": "ipython3",
   "version": "3.8.3"
  }
 },
 "nbformat": 4,
 "nbformat_minor": 4
}
