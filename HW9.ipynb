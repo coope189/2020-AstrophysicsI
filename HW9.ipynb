{
 "cells": [
  {
   "cell_type": "code",
   "execution_count": 1,
   "metadata": {},
   "outputs": [],
   "source": [
    "# read in library and constants\n",
    "import numpy as np, os, sys\n",
    "import matplotlib.pylab as p\n",
    "\n",
    "sigmacont=5.67051e-5\n",
    "acont=7.5657e-15\n",
    "ev=1.602e-12\n",
    "hcont=6.62607004e-27\n",
    "ccont=2.99792458e10\n",
    "kcont=1.38064852e-16\n",
    "rcont=8.314472e7\n",
    "me=9.1093837015e-28\n",
    "Gcont=6.67259e-8\n",
    "Msun=1.989e33\n",
    "Mearth=5.972e27\n",
    "Mjupiter=1.898e30\n",
    "Lsun=3.827e33\n",
    "rsun=6.9599e10\n",
    "rjupiter=7.149e9\n",
    "rearth=6.371e8\n",
    "au=1.49598e13\n",
    "pc=3.085678e18\n",
    "mh=1.67352e-24\n",
    "yr=365.2425*24.*3600\n",
    "pi=3.1415926"
   ]
  },
  {
   "cell_type": "markdown",
   "metadata": {},
   "source": [
    "8.3.a) In the Sunyaev-Zeldovich effect, photons from the cosmic microwave background radiation are Compon upscattered in energy by hot electrons in acluster along the line of sight. Assume 0.001 of the photons are scattered, and the mass of the cluster is $2x10^{14}M_{\\odot}$, of which 15% is in the hot gas (fully ionized hydrogen). Use the Thomson corss section to represent the cross section for Compton scattering, and assume the cluster is spherical and of constant density, to find the diameter of the cluster (assume the photons pass through one diameter)."
   ]
  },
  {
   "cell_type": "markdown",
   "metadata": {},
   "source": [
    "$$\\gamma=2.6x10^{-12}$$"
   ]
  },
  {
   "cell_type": "markdown",
   "metadata": {},
   "source": [
    "$$\\gamma\\sim\\frac{kT_e}{m_ec^2}n_e\\sigma_Tx$$"
   ]
  },
  {
   "cell_type": "markdown",
   "metadata": {},
   "source": [
    "$$\\gamma\\sim\\frac{kT_e}{m_ec^2}\\frac{M}{m_e(4/3)\\pi(x/2)^3}\\sigma_Tx$$"
   ]
  },
  {
   "cell_type": "markdown",
   "metadata": {},
   "source": [
    "$$x\\sim\\left(\\frac{6kT_eM\\sigma_T}{\\pi m_ec^2m_e\\gamma}\\right)^{1/2}$$"
   ]
  },
  {
   "cell_type": "markdown",
   "metadata": {},
   "source": [
    "$kT_e=6.626x10^{-4}eV$ for CMB"
   ]
  },
  {
   "cell_type": "markdown",
   "metadata": {},
   "source": [
    "$$x=\\frac{(6)(6.626x10^{/4})(0.001)(0.15)(2x10^{14})(2x10^{33})(6.7x10^{-25})}{\\pi(511x10^3)(9.1x10^{-28})(2.6x10^{-12})}$$"
   ]
  },
  {
   "cell_type": "markdown",
   "metadata": {},
   "source": [
    "$x=6.51x10^{24}cm$"
   ]
  },
  {
   "cell_type": "markdown",
   "metadata": {},
   "source": [
    "$x=2.1x10^6pc$"
   ]
  },
  {
   "cell_type": "markdown",
   "metadata": {},
   "source": [
    "8.3.b) If the angular diameter of the cluster 1$^\\circ$, what is its distance?"
   ]
  },
  {
   "cell_type": "markdown",
   "metadata": {},
   "source": [
    "$$D=x/\\theta$$"
   ]
  },
  {
   "cell_type": "markdown",
   "metadata": {},
   "source": [
    "$$D=\\frac{2.1Mpc}{1^{\\circ}\\pi/180^{\\circ}}$$"
   ]
  },
  {
   "cell_type": "markdown",
   "metadata": {},
   "source": [
    "$D=120Mpc$"
   ]
  },
  {
   "cell_type": "markdown",
   "metadata": {},
   "source": [
    "8.3.c) If the cluster of velocity of recession is 8400 km s$^{-1}$, what is the Hubble parameter, in units of km s$^{-1}$ Mpc$^{-1}$?"
   ]
  },
  {
   "cell_type": "markdown",
   "metadata": {},
   "source": [
    "$$v=H_0D$$"
   ]
  },
  {
   "cell_type": "markdown",
   "metadata": {},
   "source": [
    "$$H_0=\\frac{v}{D}$$"
   ]
  },
  {
   "cell_type": "markdown",
   "metadata": {},
   "source": [
    "$$H_0=\\frac{8400kms^{-1}}{120Mpc}$$"
   ]
  },
  {
   "cell_type": "markdown",
   "metadata": {},
   "source": [
    "$H_0=70kms^{-1}Mpc^{-1}$"
   ]
  },
  {
   "cell_type": "markdown",
   "metadata": {},
   "source": [
    "9.1) Show that the current proper distance to our particle horizon, defined as the most distant place we can see (in principle), for a matter-dominated k = 0 universe with no comsological constant, is $r_hR_0=3ct_0$, where r_h is the comoving radial coordiante of the particle horizon, $R_0$ is teh scale factor today, and $t_0$ is the present age of teh Universe. Thus, more and more distant regions ofthe Universe \"enter the horizon\" and become visible as time progresses. Why is the answer different from the naively expected result $ct_0$?\n",
    "$Hint:$ Light moves along $null geodescics$, defined as paths along which $ds = 0$, and therefore in the FLRW metric, light reaching us from a cosmoving coordinate r will obey\n",
    "$$0=c^2dt^2-R(t)^2\\frac{dr^2}{1-kr^2}$$\n",
    "Replace R(t) with $R_0(t/t_0)^(2/3)$ appropriate for this cosmology, separate the variables, and integrate from r = 0 to $r_h$ and from t = 0 (the Big Bang) to $t_0$ (today)."
   ]
  },
  {
   "cell_type": "markdown",
   "metadata": {},
   "source": [
    "$$0=c^2(dt)^2-R^2(t)\\frac{(dr)^2}{1-kr^2}$$"
   ]
  },
  {
   "cell_type": "markdown",
   "metadata": {},
   "source": [
    "$$c^2(dt)^2=\\frac{R^2(t)(dr)^2}{1-kr^2}$$"
   ]
  },
  {
   "cell_type": "markdown",
   "metadata": {},
   "source": [
    "$$cdt=\\frac{R(t)}{\\sqrt{1-kr^2}}dr$$"
   ]
  },
  {
   "cell_type": "markdown",
   "metadata": {},
   "source": [
    "$$R(t)=R_0(t/t_0)^{2/3}$$"
   ]
  },
  {
   "cell_type": "markdown",
   "metadata": {},
   "source": [
    "$$cdt=\\frac{R_0(t/t_0)^{2/3}}{\\sqrt{1-kr^2}}dr$$"
   ]
  },
  {
   "cell_type": "markdown",
   "metadata": {},
   "source": [
    "$$\\frac{ct_0^{2/3}}{R_0}t^{-2/3}dt=\\frac{1}{\\sqrt{1-kr^2}}dr$$"
   ]
  },
  {
   "cell_type": "markdown",
   "metadata": {},
   "source": [
    "$$\\frac{ct_0^{2/3}}{R_0}\\int_0^{t_0} t^{-2/3}dt=\\int_0^{r_h}\\frac{1}{\\sqrt{1-kr^2}}dr$$"
   ]
  },
  {
   "cell_type": "markdown",
   "metadata": {},
   "source": [
    "$$k=0$$"
   ]
  },
  {
   "cell_type": "markdown",
   "metadata": {},
   "source": [
    "$$\\frac{ct_0^{2/3}}{R_0}\\int_0^{t_0} t^{-2/3}dt=\\int_0^{r_h}1dr$$"
   ]
  },
  {
   "cell_type": "markdown",
   "metadata": {},
   "source": [
    "$$\\frac{3ct_0^{2/3}}{R_0}[t_0^{1/3}-0]=r_h-0$$"
   ]
  },
  {
   "cell_type": "markdown",
   "metadata": {},
   "source": [
    "$$r_hR_0=3ct_0$$"
   ]
  },
  {
   "cell_type": "markdown",
   "metadata": {},
   "source": [
    "9.2) For a k = 0 universe with $\\Omega_{\\Lambda}=1$, that at t = 0 already has a scale R_0, find the comoving radial coordinate, $r_h$, of galaxies that will be on the particle horizon (see Problem 1) at a time t in the future. Show that in this case $r_h$ approaches a constant, $c/(H_0R_0)$, and therefore galaxies beyond this $r_h$ will never become visible.\n",
    "$Hint:$ Proceed as in Problem 1, but now with $R(t)=R_0exp(H_0t)$. (Show why this R(t) is an exact solution of the Friedmann equations for the cosmological parameters above.)"
   ]
  },
  {
   "cell_type": "markdown",
   "metadata": {},
   "source": [
    "$$cdt=\\frac{R(t)}{\\sqrt{1-kr^2}}dr$$"
   ]
  },
  {
   "cell_type": "markdown",
   "metadata": {},
   "source": [
    "$$R(t)=R_0e^{H_0t}$$"
   ]
  },
  {
   "cell_type": "markdown",
   "metadata": {},
   "source": [
    "$$cdt=\\frac{R_0e^{H_0t}}{\\sqrt{1-kr^2}}dr$$"
   ]
  },
  {
   "cell_type": "markdown",
   "metadata": {},
   "source": [
    "$$\\frac{c}{R_0}e^{-H_0t}dt=\\frac{1}{\\sqrt{1-kr^2}}dr$$"
   ]
  },
  {
   "cell_type": "markdown",
   "metadata": {},
   "source": [
    "$k=0$"
   ]
  },
  {
   "cell_type": "markdown",
   "metadata": {},
   "source": [
    "$$\\frac{c}{R_0}e^{-H_0t}dt=dr$$"
   ]
  },
  {
   "cell_type": "markdown",
   "metadata": {},
   "source": [
    "$$\\frac{c}{R_0}\\int_0^{t_0}e^{-H_0t}dt=\\int_0^{r_h}dr$$"
   ]
  },
  {
   "cell_type": "markdown",
   "metadata": {},
   "source": [
    "$$-\\frac{c}{R_0H_0}[e^{-H_0t_0}-1]=r_h-0$$"
   ]
  },
  {
   "cell_type": "markdown",
   "metadata": {},
   "source": [
    "$$r_h=(c/H_0R_0)[1-e^{-H_0t_0}]$$"
   ]
  },
  {
   "cell_type": "markdown",
   "metadata": {},
   "source": [
    "as t goes to $\\infty$"
   ]
  },
  {
   "cell_type": "markdown",
   "metadata": {},
   "source": [
    "$$r_h=(c/H_0R_0)[1-0]$$"
   ]
  },
  {
   "cell_type": "markdown",
   "metadata": {},
   "source": [
    "$$r_h=(c/H_0R_0)$$"
   ]
  },
  {
   "cell_type": "code",
   "execution_count": null,
   "metadata": {},
   "outputs": [],
   "source": []
  }
 ],
 "metadata": {
  "kernelspec": {
   "display_name": "Python 3",
   "language": "python",
   "name": "python3"
  },
  "language_info": {
   "codemirror_mode": {
    "name": "ipython",
    "version": 3
   },
   "file_extension": ".py",
   "mimetype": "text/x-python",
   "name": "python",
   "nbconvert_exporter": "python",
   "pygments_lexer": "ipython3",
   "version": "3.8.3"
  }
 },
 "nbformat": 4,
 "nbformat_minor": 4
}
